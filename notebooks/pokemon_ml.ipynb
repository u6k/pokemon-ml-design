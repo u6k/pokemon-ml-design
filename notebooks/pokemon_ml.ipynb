{
 "cells": [
  {
   "cell_type": "markdown",
   "id": "9d30dfdf-74d3-43de-8ca5-cab0af39476f",
   "metadata": {},
   "source": [
    "# 設定"
   ]
  },
  {
   "cell_type": "code",
   "execution_count": 1,
   "id": "93926bf7-4d94-4ac2-9eef-740f45500808",
   "metadata": {
    "execution": {
     "iopub.execute_input": "2022-03-18T08:11:11.789013Z",
     "iopub.status.busy": "2022-03-18T08:11:11.788778Z",
     "iopub.status.idle": "2022-03-18T08:11:52.455074Z",
     "shell.execute_reply": "2022-03-18T08:11:52.453358Z",
     "shell.execute_reply.started": "2022-03-18T08:11:11.788949Z"
    }
   },
   "outputs": [],
   "source": [
    "import math\n",
    "from abc import ABCMeta, abstractmethod\n",
    "from collections import defaultdict\n",
    "from dataclasses import dataclass\n",
    "from pathlib import Path\n",
    "from typing import Dict, List, Optional, Tuple\n",
    "\n",
    "import matplotlib.pyplot as plt\n",
    "import numpy as np\n",
    "import pandas as pd\n",
    "from obp.dataset import SyntheticBanditDataset\n",
    "from obp.ope import DirectMethod\n",
    "from obp.ope import DoublyRobust as DR\n",
    "from obp.ope import InverseProbabilityWeighting as IPS\n",
    "from obp.ope import OffPolicyEvaluation, RegressionModel\n",
    "from obp.policy import IPWLearner, NNPolicyLearner\n",
    "from obp.types import BanditFeedback\n",
    "from obp.utils import sigmoid\n",
    "from sklearn.ensemble import RandomForestClassifier\n",
    "from sklearn.linear_model import LogisticRegression\n",
    "from sklearn.preprocessing import StandardScaler\n",
    "from sklearn.svm import SVC"
   ]
  },
  {
   "cell_type": "markdown",
   "id": "fd819ce0-932b-4fd4-9b9b-5bfaee238ed1",
   "metadata": {
    "execution": {
     "iopub.execute_input": "2022-03-16T09:15:00.473988Z",
     "iopub.status.busy": "2022-03-16T09:15:00.473651Z",
     "iopub.status.idle": "2022-03-16T09:15:00.477269Z",
     "shell.execute_reply": "2022-03-16T09:15:00.476565Z",
     "shell.execute_reply.started": "2022-03-16T09:15:00.473961Z"
    },
    "tags": []
   },
   "source": [
    "# データ生成"
   ]
  },
  {
   "cell_type": "code",
   "execution_count": 2,
   "id": "6ecd519b-89f6-49b2-87eb-2c73cce3dea3",
   "metadata": {
    "execution": {
     "iopub.execute_input": "2022-03-18T08:11:52.460261Z",
     "iopub.status.busy": "2022-03-18T08:11:52.460012Z",
     "iopub.status.idle": "2022-03-18T08:11:52.466332Z",
     "shell.execute_reply": "2022-03-18T08:11:52.465155Z",
     "shell.execute_reply.started": "2022-03-18T08:11:52.460231Z"
    }
   },
   "outputs": [],
   "source": [
    "def _get_pokemon_id(x: float) -> int:\n",
    "    \"\"\"float値からポケモンIDに変換する\n",
    "\n",
    "    Args:\n",
    "        x: ポケモンIDの基となるfloat値\n",
    "    Returns:\n",
    "        変換されたポケモンID\n",
    "    \"\"\"\n",
    "    return (x * 10 ** 5).astype(int) % 151 + 1"
   ]
  },
  {
   "cell_type": "code",
   "execution_count": 3,
   "id": "de58df00-c37e-4151-b95a-f795b806a927",
   "metadata": {
    "execution": {
     "iopub.execute_input": "2022-03-18T08:11:52.470666Z",
     "iopub.status.busy": "2022-03-18T08:11:52.470411Z",
     "iopub.status.idle": "2022-03-18T08:11:52.905458Z",
     "shell.execute_reply": "2022-03-18T08:11:52.902220Z",
     "shell.execute_reply.started": "2022-03-18T08:11:52.470636Z"
    }
   },
   "outputs": [],
   "source": [
    "def _reward_function(\n",
    "    context: np.ndarray,\n",
    "    action_context: np.ndarray,\n",
    "    random_state: Optional[int] = None,\n",
    ") -> np.ndarray:\n",
    "    \"\"\"コンテキスト(ポケモンID)からアクションごとの収益を生成する\n",
    "\n",
    "    Args:\n",
    "        context: コンテキスト(ポケモンID)\n",
    "        action_context: コンテキスト(アクション)(使ってない？)\n",
    "        random_state: 乱数シード\n",
    "    Returns:\n",
    "        収益配列\n",
    "    \"\"\"\n",
    "    pokemon_ids = _get_pokemon_id(context.flatten())\n",
    "    pokemon_zukan = PokemonZukan()\n",
    "\n",
    "    capture_probabilities = []\n",
    "    for pokemon_id in pokemon_ids:\n",
    "        l = []\n",
    "        for action in ACTIONS:\n",
    "            ball_performance = action.performance\n",
    "            pokemon_capture_dificulty = pokemon_zukan.get_capture_dificulty(pokemon_id)\n",
    "            capture_probability = sigmoid(ball_performance - pokemon_capture_dificulty)\n",
    "            l.append(capture_probability)\n",
    "        capture_probabilities.append(l)\n",
    "    capture_probabilities = np.array(capture_probabilities)\n",
    "    return capture_probabilities"
   ]
  },
  {
   "cell_type": "code",
   "execution_count": 4,
   "id": "57f64cf5-1a2c-4bed-9226-706da3d7ac79",
   "metadata": {
    "execution": {
     "iopub.execute_input": "2022-03-18T08:11:52.910260Z",
     "iopub.status.busy": "2022-03-18T08:11:52.910016Z",
     "iopub.status.idle": "2022-03-18T08:11:53.439180Z",
     "shell.execute_reply": "2022-03-18T08:11:53.438086Z",
     "shell.execute_reply.started": "2022-03-18T08:11:52.910229Z"
    }
   },
   "outputs": [],
   "source": [
    "def _behavior_policy(\n",
    "    context: np.ndarray,\n",
    "    action_context: np.ndarray,\n",
    "    random_state: Optional[int] = None,\n",
    ") -> np.ndarray:\n",
    "    \"\"\"コンテキスト(ポケモンID)から行動ポリシーを生成する\n",
    "\n",
    "    ルール・ベースのポリシーを使用する。\n",
    "\n",
    "    Args:\n",
    "        context: コンテキスト(ポケモンID)\n",
    "        action_context: コンテキスト(アクション)(使ってない？)\n",
    "        random_state: 乱数シード\n",
    "    Returns:\n",
    "        行動ポリシー\n",
    "    \"\"\"\n",
    "    pokemon_ids = _get_pokemon_id(context.flatten())\n",
    "    policy = np.array([rule_based_policy(pokemon_id) for pokemon_id in pokemon_ids])\n",
    "    return policy"
   ]
  },
  {
   "cell_type": "code",
   "execution_count": 5,
   "id": "0dd4fad9-b757-4e35-a4d6-4166f7cbaebf",
   "metadata": {
    "execution": {
     "iopub.execute_input": "2022-03-18T08:11:53.463993Z",
     "iopub.status.busy": "2022-03-18T08:11:53.463731Z",
     "iopub.status.idle": "2022-03-18T08:11:53.904010Z",
     "shell.execute_reply": "2022-03-18T08:11:53.901575Z",
     "shell.execute_reply.started": "2022-03-18T08:11:53.463966Z"
    }
   },
   "outputs": [],
   "source": [
    "def _update_context(data: BanditFeedback) -> BanditFeedback:\n",
    "    \"\"\"BanditFeedbackのコンテキストを整数値に変換する\n",
    "\n",
    "    Args:\n",
    "        data: 変換前のBanditFeedback\n",
    "    Returns:\n",
    "        変換後のBanditFeedback\n",
    "    Todo:\n",
    "        現状のSyntheticBanditDatasetは整数値のcontextを生成できないので、暫定的に後処理でcontextを追加する\n",
    "    \"\"\"\n",
    "    pokemon_ids = _get_pokemon_id(data['context'].flatten())\n",
    "    pokemon_zukan = PokemonZukan()\n",
    "    rewards = np.array([pokemon_zukan.get_reward(pokemon_id) for pokemon_id in pokemon_ids])\n",
    "    capture_dificulties = np.array([pokemon_zukan.get_capture_dificulty(pokemon_id) for pokemon_id in pokemon_ids])\n",
    "\n",
    "    new_context = np.concatenate([pokemon_ids[:, np.newaxis], capture_dificulties[:, np.newaxis], rewards[:, np.newaxis]], axis=1)\n",
    "    data['context'] = new_context\n",
    "    return data"
   ]
  },
  {
   "cell_type": "code",
   "execution_count": 6,
   "id": "a68be8bc-9723-437b-b9b0-c0127654564c",
   "metadata": {
    "execution": {
     "iopub.execute_input": "2022-03-18T08:11:53.910626Z",
     "iopub.status.busy": "2022-03-18T08:11:53.910339Z",
     "iopub.status.idle": "2022-03-18T08:11:54.150476Z",
     "shell.execute_reply": "2022-03-18T08:11:54.149605Z",
     "shell.execute_reply.started": "2022-03-18T08:11:53.910594Z"
    }
   },
   "outputs": [],
   "source": [
    "def _update_reward(data: BanditFeedback) -> BanditFeedback:\n",
    "    \"\"\"収益を業務に合わせて変換する\n",
    "\n",
    "    現状、捕獲したかどうかのrewardになっているので、\n",
    "    「捕獲した場合は謝礼金をもらえて、捕獲しなかった場合は何ももらえない」「ボールのコストを差し引く」を考慮したrewardにする。\n",
    "\n",
    "    Args:\n",
    "        data: 変換前のBanditFeedback\n",
    "    Returns:\n",
    "        変換後のBanditFeedback\n",
    "    \"\"\"\n",
    "    rewards = data['context'][:, 2]\n",
    "    costs = np.array([ACTIONS[action_id].cost for action_id in data['action'].flatten()])\n",
    "    data['binary_reward'] = data['reward']\n",
    "    data['reward'] = rewards * data['reward'] - costs\n",
    "    return data"
   ]
  },
  {
   "cell_type": "code",
   "execution_count": 7,
   "id": "f1116918-1f22-489a-be38-03c19351dbc3",
   "metadata": {
    "execution": {
     "iopub.execute_input": "2022-03-18T08:11:54.156474Z",
     "iopub.status.busy": "2022-03-18T08:11:54.156252Z",
     "iopub.status.idle": "2022-03-18T08:11:54.348674Z",
     "shell.execute_reply": "2022-03-18T08:11:54.345946Z",
     "shell.execute_reply.started": "2022-03-18T08:11:54.156447Z"
    }
   },
   "outputs": [],
   "source": [
    "def _update_expected_reward(data: BanditFeedback) -> BanditFeedback:\n",
    "    \"\"\"期待収益を生成する\n",
    "\n",
    "    Args:\n",
    "        data: 変換前のBanditFeedback\n",
    "    Returns:\n",
    "        変換後のBanditFeedback\n",
    "    \"\"\"\n",
    "    rewards = data['context'][:, 2]\n",
    "    costs = np.array([action.cost for action in ACTIONS])\n",
    "    data['expected_reward'] = rewards[:, np.newaxis] * data['expected_reward'] - costs[np.newaxis, :]\n",
    "    return data"
   ]
  },
  {
   "cell_type": "code",
   "execution_count": 8,
   "id": "e64f148c-01e9-4dd8-9a11-ad9009ed10ab",
   "metadata": {
    "execution": {
     "iopub.execute_input": "2022-03-18T08:11:54.356034Z",
     "iopub.status.busy": "2022-03-18T08:11:54.355736Z",
     "iopub.status.idle": "2022-03-18T08:11:55.048180Z",
     "shell.execute_reply": "2022-03-18T08:11:55.044925Z",
     "shell.execute_reply.started": "2022-03-18T08:11:54.356000Z"
    }
   },
   "outputs": [],
   "source": [
    "def _post_process(data: BanditFeedback) -> BanditFeedback:\n",
    "    \"\"\"BanditFeedbackに各種変換を行う\n",
    "\n",
    "    Args:\n",
    "        data: 変換前のBanditFeedback\n",
    "    Returns:\n",
    "        変換後のBanditFeedback\n",
    "    \"\"\"\n",
    "    data = _update_context(data)\n",
    "    data = _update_reward(data)\n",
    "    data = _update_expected_reward(data)\n",
    "    return data"
   ]
  },
  {
   "cell_type": "code",
   "execution_count": 9,
   "id": "8021d944-e6e7-4d72-b97c-2aa9da84e736",
   "metadata": {
    "execution": {
     "iopub.execute_input": "2022-03-18T08:11:55.053258Z",
     "iopub.status.busy": "2022-03-18T08:11:55.053020Z",
     "iopub.status.idle": "2022-03-18T08:11:55.265323Z",
     "shell.execute_reply": "2022-03-18T08:11:55.263897Z",
     "shell.execute_reply.started": "2022-03-18T08:11:55.053230Z"
    }
   },
   "outputs": [],
   "source": [
    "def synthesize_data() -> Tuple[BanditFeedback, BanditFeedback]:\n",
    "    \"\"\"訓練・検証・テストデータを生成する\n",
    "\n",
    "    Returns:\n",
    "        訓練データ, 検証データ, テストデータ\n",
    "    \"\"\"\n",
    "    dataset = SyntheticBanditDataset(\n",
    "        n_actions=len(ACTIONS),\n",
    "        dim_context=1,  # pokemon_idの元になるfloat値を生成する\n",
    "        reward_function=_reward_function,\n",
    "        behavior_policy_function=_behavior_policy,\n",
    "        random_state=615,\n",
    "    )\n",
    "    training_data = _post_process(dataset.obtain_batch_bandit_feedback(n_rounds=50000))\n",
    "    validation_data = _post_process(dataset.obtain_batch_bandit_feedback(n_rounds=50000))\n",
    "    test_data = _post_process(dataset.obtain_batch_bandit_feedback(n_rounds=1000))\n",
    "    return training_data, validation_data, test_data"
   ]
  },
  {
   "cell_type": "code",
   "execution_count": 10,
   "id": "e800e348-561d-4cb2-bd93-44edc18545df",
   "metadata": {
    "execution": {
     "iopub.execute_input": "2022-03-18T08:11:55.271744Z",
     "iopub.status.busy": "2022-03-18T08:11:55.271535Z",
     "iopub.status.idle": "2022-03-18T08:11:55.461088Z",
     "shell.execute_reply": "2022-03-18T08:11:55.459257Z",
     "shell.execute_reply.started": "2022-03-18T08:11:55.271718Z"
    },
    "tags": []
   },
   "outputs": [],
   "source": [
    "@dataclass\n",
    "class Action:\n",
    "    \"\"\"アクションを表すクラス\n",
    "    \"\"\"\n",
    "    label: str        # アクション名\n",
    "    label_en: str     # アクション名(英語)\n",
    "    performance: int  # 性能(捕獲しやすさ)\n",
    "    cost: int         # 費用\n",
    "    color: str        # グラフ表示色\n",
    "    marker: str       # グラフ表示マーカー\n",
    "\n",
    "\n",
    "ACTIONS: List[Action] = [\n",
    "    Action(label='逃げる', label_en='RUN AWAY', performance=-math.inf, cost=0, color='black', marker='o'),\n",
    "    Action(label='モンスターボールを投げる', label_en='THROW MONSTER-BALL', performance=50, cost=100, color='red', marker='s'),\n",
    "    Action(label='スーパーボールを投げる', label_en='THROW SUPER-BALL', performance=100, cost=500, color='blue', marker='v'),\n",
    "    Action(label='ハイパーボールを投げる', label_en='THROW HYPER-BALL', performance=200, cost=2000, color='orange', marker='^'),\n",
    "    Action(label='マスターボールを投げる', label_en='THROW MASTER-BALL', performance=math.inf, cost=10000, color='violet', marker='x'),\n",
    "]"
   ]
  },
  {
   "cell_type": "code",
   "execution_count": 11,
   "id": "965db39f-bb28-4507-baf4-c676a6dd5f55",
   "metadata": {
    "execution": {
     "iopub.execute_input": "2022-03-18T08:11:55.470000Z",
     "iopub.status.busy": "2022-03-18T08:11:55.469269Z",
     "iopub.status.idle": "2022-03-18T08:11:55.919413Z",
     "shell.execute_reply": "2022-03-18T08:11:55.918352Z",
     "shell.execute_reply.started": "2022-03-18T08:11:55.469917Z"
    },
    "tags": []
   },
   "outputs": [],
   "source": [
    "class PokemonZukan:\n",
    "    \"\"\"ポケモン図鑑\n",
    "\n",
    "    ポケモンの捕獲難度と謝礼金を教えてくれるポケモン図鑑クラス。\n",
    "    ポケモンIDから各種値を返す。\n",
    "    \"\"\"\n",
    "\n",
    "    def __init__(self) -> None:\n",
    "        self._data = pd.read_csv('pokemon.csv', index_col='id')\n",
    "\n",
    "    def get_capture_dificulty(self, pokemon_id: int) -> int:\n",
    "        return self._data.loc[pokemon_id]['capture_dificulty']\n",
    "\n",
    "    def get_reward(self, pokemon_id: int) -> int:\n",
    "        return self._data.loc[pokemon_id]['reward']\n",
    "\n",
    "    def get_name(self, pokemon_id: int) -> str:\n",
    "        return self._data.loc[pokemon_id]['name']"
   ]
  },
  {
   "cell_type": "code",
   "execution_count": 12,
   "id": "137f11df-12f9-48e8-af65-32720bd3770c",
   "metadata": {
    "execution": {
     "iopub.execute_input": "2022-03-18T08:11:55.923580Z",
     "iopub.status.busy": "2022-03-18T08:11:55.923353Z",
     "iopub.status.idle": "2022-03-18T08:11:56.557100Z",
     "shell.execute_reply": "2022-03-18T08:11:56.556225Z",
     "shell.execute_reply.started": "2022-03-18T08:11:55.923553Z"
    },
    "tags": []
   },
   "outputs": [
    {
     "data": {
      "text/html": [
       "<div>\n",
       "<style scoped>\n",
       "    .dataframe tbody tr th:only-of-type {\n",
       "        vertical-align: middle;\n",
       "    }\n",
       "\n",
       "    .dataframe tbody tr th {\n",
       "        vertical-align: top;\n",
       "    }\n",
       "\n",
       "    .dataframe thead th {\n",
       "        text-align: right;\n",
       "    }\n",
       "</style>\n",
       "<table border=\"1\" class=\"dataframe\">\n",
       "  <thead>\n",
       "    <tr style=\"text-align: right;\">\n",
       "      <th></th>\n",
       "      <th>name</th>\n",
       "      <th>capture_dificulty</th>\n",
       "      <th>reward</th>\n",
       "    </tr>\n",
       "    <tr>\n",
       "      <th>id</th>\n",
       "      <th></th>\n",
       "      <th></th>\n",
       "      <th></th>\n",
       "    </tr>\n",
       "  </thead>\n",
       "  <tbody>\n",
       "    <tr>\n",
       "      <th>1</th>\n",
       "      <td>フシギダネ</td>\n",
       "      <td>210</td>\n",
       "      <td>1600</td>\n",
       "    </tr>\n",
       "    <tr>\n",
       "      <th>2</th>\n",
       "      <td>フシギソウ</td>\n",
       "      <td>210</td>\n",
       "      <td>4358</td>\n",
       "    </tr>\n",
       "    <tr>\n",
       "      <th>3</th>\n",
       "      <td>フシギバナ</td>\n",
       "      <td>210</td>\n",
       "      <td>12744</td>\n",
       "    </tr>\n",
       "    <tr>\n",
       "      <th>4</th>\n",
       "      <td>ヒトカゲ</td>\n",
       "      <td>210</td>\n",
       "      <td>1502</td>\n",
       "    </tr>\n",
       "    <tr>\n",
       "      <th>5</th>\n",
       "      <td>リザード</td>\n",
       "      <td>210</td>\n",
       "      <td>4358</td>\n",
       "    </tr>\n",
       "    <tr>\n",
       "      <th>...</th>\n",
       "      <td>...</td>\n",
       "      <td>...</td>\n",
       "      <td>...</td>\n",
       "    </tr>\n",
       "    <tr>\n",
       "      <th>147</th>\n",
       "      <td>ミニリュウ</td>\n",
       "      <td>210</td>\n",
       "      <td>1526</td>\n",
       "    </tr>\n",
       "    <tr>\n",
       "      <th>148</th>\n",
       "      <td>ハクリュー</td>\n",
       "      <td>210</td>\n",
       "      <td>5862</td>\n",
       "    </tr>\n",
       "    <tr>\n",
       "      <th>149</th>\n",
       "      <td>カイリュー</td>\n",
       "      <td>210</td>\n",
       "      <td>24414</td>\n",
       "    </tr>\n",
       "    <tr>\n",
       "      <th>150</th>\n",
       "      <td>ミュウツー</td>\n",
       "      <td>252</td>\n",
       "      <td>47333</td>\n",
       "    </tr>\n",
       "    <tr>\n",
       "      <th>151</th>\n",
       "      <td>ミュウ</td>\n",
       "      <td>210</td>\n",
       "      <td>24414</td>\n",
       "    </tr>\n",
       "  </tbody>\n",
       "</table>\n",
       "<p>151 rows × 3 columns</p>\n",
       "</div>"
      ],
      "text/plain": [
       "      name  capture_dificulty  reward\n",
       "id                                   \n",
       "1    フシギダネ                210    1600\n",
       "2    フシギソウ                210    4358\n",
       "3    フシギバナ                210   12744\n",
       "4     ヒトカゲ                210    1502\n",
       "5     リザード                210    4358\n",
       "..     ...                ...     ...\n",
       "147  ミニリュウ                210    1526\n",
       "148  ハクリュー                210    5862\n",
       "149  カイリュー                210   24414\n",
       "150  ミュウツー                252   47333\n",
       "151    ミュウ                210   24414\n",
       "\n",
       "[151 rows x 3 columns]"
      ]
     },
     "execution_count": 12,
     "metadata": {},
     "output_type": "execute_result"
    }
   ],
   "source": [
    "PokemonZukan()._data"
   ]
  },
  {
   "cell_type": "code",
   "execution_count": 13,
   "id": "5e82b4d8-4c19-4d2d-8359-d2add9ba7fcd",
   "metadata": {
    "execution": {
     "iopub.execute_input": "2022-03-18T08:11:56.561839Z",
     "iopub.status.busy": "2022-03-18T08:11:56.561626Z",
     "iopub.status.idle": "2022-03-18T08:11:56.647823Z",
     "shell.execute_reply": "2022-03-18T08:11:56.646259Z",
     "shell.execute_reply.started": "2022-03-18T08:11:56.561812Z"
    }
   },
   "outputs": [],
   "source": [
    "def rule_based_policy(pokemon_id: int) -> Tuple:\n",
    "    \"\"\"ルールベース・ポリシーでアクションごと採用確率を返す。\n",
    "\n",
    "    アクションの種類ごとに採用する確率を返す。\n",
    "    確率は、収益に対応して決まる。\n",
    "\n",
    "    Returns:\n",
    "        逃げる, モンスターボール, スーパーボール, ハイパーボール, マスターボールの行動確率\n",
    "    \"\"\"\n",
    "    pokemon_zukan = PokemonZukan()\n",
    "\n",
    "    capture_dificulty = pokemon_zukan.get_capture_dificulty(pokemon_id)\n",
    "    reward = pokemon_zukan.get_reward(pokemon_id)\n",
    "    name = pokemon_zukan.get_name(pokemon_id)\n",
    "\n",
    "    if reward >= 10000:\n",
    "        return 0.1, 0.1, 0.1, 0.2, 0.5\n",
    "\n",
    "    if reward >= 2000:\n",
    "        return 0.05, 0.2, 0.3, 0.4, 0.05\n",
    "\n",
    "    if reward >= 500:\n",
    "        return 0.1, 0.3, 0.5, 0.05, 0.05\n",
    "\n",
    "    if reward >= 100:\n",
    "        return 0.4, 0.4, 0.1, 0.05, 0.05\n",
    "\n",
    "    return 0.8, 0.05, 0.05, 0.05, 0.05"
   ]
  },
  {
   "cell_type": "code",
   "execution_count": 14,
   "id": "5ba85106-c611-4652-8b0b-b4df6f368059",
   "metadata": {
    "execution": {
     "iopub.execute_input": "2022-03-18T08:11:56.659337Z",
     "iopub.status.busy": "2022-03-18T08:11:56.658819Z",
     "iopub.status.idle": "2022-03-18T08:18:18.380194Z",
     "shell.execute_reply": "2022-03-18T08:18:18.379341Z",
     "shell.execute_reply.started": "2022-03-18T08:11:56.659295Z"
    }
   },
   "outputs": [],
   "source": [
    "# データを生成する\n",
    "training_data, validation_data, test_data = synthesize_data()"
   ]
  },
  {
   "cell_type": "code",
   "execution_count": 15,
   "id": "59515f7b-43d5-44f8-b17c-a10efd40be29",
   "metadata": {
    "execution": {
     "iopub.execute_input": "2022-03-18T08:18:18.384196Z",
     "iopub.status.busy": "2022-03-18T08:18:18.383723Z",
     "iopub.status.idle": "2022-03-18T08:18:18.393756Z",
     "shell.execute_reply": "2022-03-18T08:18:18.392900Z",
     "shell.execute_reply.started": "2022-03-18T08:18:18.384155Z"
    }
   },
   "outputs": [
    {
     "data": {
      "text/plain": [
       "{'n_rounds': 50000,\n",
       " 'n_actions': 5,\n",
       " 'context': array([[   46,    65,  1296],\n",
       "        [   91,   195, 20736],\n",
       "        [   29,    20,  1191],\n",
       "        ...,\n",
       "        [   37,    65,  1502],\n",
       "        [   68,   210, 12155],\n",
       "        [   40,   205,  5862]]),\n",
       " 'action_context': array([[1, 0, 0, 0, 0],\n",
       "        [0, 1, 0, 0, 0],\n",
       "        [0, 0, 1, 0, 0],\n",
       "        [0, 0, 0, 1, 0],\n",
       "        [0, 0, 0, 0, 1]]),\n",
       " 'action': array([2, 3, 2, ..., 1, 4, 2]),\n",
       " 'position': None,\n",
       " 'reward': array([  796, 18736,   691, ...,  -100,  2155,  -500]),\n",
       " 'expected_reward': array([[    0.        ,   -99.99960355,   796.        ,  -704.        ,\n",
       "         -8704.        ],\n",
       "        [    0.        ,  -100.        ,  -500.        , 18597.21704323,\n",
       "         10736.        ],\n",
       "        [    0.        ,  1091.        ,   691.        ,  -809.        ,\n",
       "         -8809.        ],\n",
       "        ...,\n",
       "        [    0.        ,   -99.99954053,  1002.        ,  -498.        ,\n",
       "         -8498.        ],\n",
       "        [    0.        ,  -100.        ,  -500.        , -1999.44818891,\n",
       "          2155.        ],\n",
       "        [    0.        ,  -100.        ,  -500.        , -1960.76650788,\n",
       "         -4138.        ]]),\n",
       " 'pscore': array([0.5, 0.2, 0.5, ..., 0.3, 0.5, 0.3]),\n",
       " 'binary_reward': array([1, 1, 1, ..., 0, 1, 0])}"
      ]
     },
     "execution_count": 15,
     "metadata": {},
     "output_type": "execute_result"
    }
   ],
   "source": [
    "training_data"
   ]
  },
  {
   "cell_type": "code",
   "execution_count": 16,
   "id": "4ade560a-52e7-42ba-9a7f-c42ebd7c42e9",
   "metadata": {
    "execution": {
     "iopub.execute_input": "2022-03-18T08:18:18.397588Z",
     "iopub.status.busy": "2022-03-18T08:18:18.397359Z",
     "iopub.status.idle": "2022-03-18T08:18:19.084045Z",
     "shell.execute_reply": "2022-03-18T08:18:19.083005Z",
     "shell.execute_reply.started": "2022-03-18T08:18:18.397560Z"
    }
   },
   "outputs": [
    {
     "data": {
      "text/plain": [
       "{'n_rounds': 50000,\n",
       " 'n_actions': 5,\n",
       " 'context': array([[  134,   210, 13355],\n",
       "        [   84,    65,  2234],\n",
       "        [  111,   135,  3846],\n",
       "        ...,\n",
       "        [   98,    30,  3164],\n",
       "        [   58,    65,  2401],\n",
       "        [   94,   210, 12744]]),\n",
       " 'action_context': array([[1, 0, 0, 0, 0],\n",
       "        [0, 1, 0, 0, 0],\n",
       "        [0, 0, 1, 0, 0],\n",
       "        [0, 0, 0, 1, 0],\n",
       "        [0, 0, 0, 0, 1]]),\n",
       " 'action': array([4, 1, 3, ..., 3, 2, 0]),\n",
       " 'position': None,\n",
       " 'reward': array([3355, -100, 1846, ..., 1164, 1901,    0]),\n",
       " 'expected_reward': array([[    0.        ,  -100.        ,  -500.        , -1999.39371146,\n",
       "          3355.        ],\n",
       "        [    0.        ,   -99.99931661,  1734.        ,   234.        ,\n",
       "         -7766.        ],\n",
       "        [    0.        ,  -100.        ,  -500.        ,  1846.        ,\n",
       "         -6154.        ],\n",
       "        ...,\n",
       "        [    0.        ,  3063.99999348,  2664.        ,  1164.        ,\n",
       "         -6836.        ],\n",
       "        [    0.        ,   -99.99926553,  1901.        ,   401.        ,\n",
       "         -7599.        ],\n",
       "        [    0.        ,  -100.        ,  -500.        , -1999.42144956,\n",
       "          2744.        ]]),\n",
       " 'pscore': array([0.5, 0.2, 0.4, ..., 0.4, 0.3, 0.1]),\n",
       " 'binary_reward': array([1, 0, 1, ..., 1, 1, 0])}"
      ]
     },
     "execution_count": 16,
     "metadata": {},
     "output_type": "execute_result"
    }
   ],
   "source": [
    "validation_data"
   ]
  },
  {
   "cell_type": "code",
   "execution_count": 17,
   "id": "e816abcb-a8d4-4ee2-afdb-549dc7af0690",
   "metadata": {
    "execution": {
     "iopub.execute_input": "2022-03-18T08:18:19.088712Z",
     "iopub.status.busy": "2022-03-18T08:18:19.088486Z",
     "iopub.status.idle": "2022-03-18T08:18:19.563755Z",
     "shell.execute_reply": "2022-03-18T08:18:19.563001Z",
     "shell.execute_reply.started": "2022-03-18T08:18:19.088684Z"
    }
   },
   "outputs": [
    {
     "data": {
      "text/plain": [
       "{'n_rounds': 1000,\n",
       " 'n_actions': 5,\n",
       " 'context': array([[  135,   210, 13355],\n",
       "        [  118,    30,  2577],\n",
       "        [   90,    65,  2401],\n",
       "        ...,\n",
       "        [   56,    65,  1785],\n",
       "        [    8,   210,  4358],\n",
       "        [   13,     0,   366]]),\n",
       " 'action_context': array([[1, 0, 0, 0, 0],\n",
       "        [0, 1, 0, 0, 0],\n",
       "        [0, 0, 1, 0, 0],\n",
       "        [0, 0, 0, 1, 0],\n",
       "        [0, 0, 0, 0, 1]]),\n",
       " 'action': array([4, 2, 3, 3, 0, 3, 4, 3, 4, 3, 1, 1, 4, 4, 2, 3, 1, 3, 2, 3, 3, 4,\n",
       "        1, 2, 3, 3, 4, 2, 3, 4, 2, 1, 3, 4, 1, 4, 3, 3, 0, 2, 3, 3, 2, 4,\n",
       "        3, 2, 2, 1, 2, 3, 1, 3, 3, 2, 3, 1, 1, 2, 3, 1, 1, 2, 3, 0, 2, 2,\n",
       "        2, 4, 3, 2, 3, 2, 3, 2, 0, 4, 2, 2, 2, 1, 3, 2, 2, 4, 3, 2, 3, 3,\n",
       "        2, 2, 0, 3, 1, 2, 4, 1, 1, 1, 1, 3, 3, 3, 3, 2, 4, 4, 3, 1, 4, 2,\n",
       "        2, 1, 3, 1, 2, 2, 2, 2, 1, 4, 1, 1, 2, 3, 3, 3, 4, 4, 1, 3, 2, 4,\n",
       "        2, 2, 2, 1, 1, 3, 3, 1, 3, 0, 2, 0, 3, 4, 1, 4, 0, 4, 2, 1, 1, 2,\n",
       "        0, 4, 2, 3, 3, 1, 1, 2, 4, 4, 3, 4, 2, 1, 2, 3, 2, 2, 3, 3, 3, 3,\n",
       "        1, 4, 3, 0, 0, 2, 1, 4, 4, 3, 3, 1, 1, 2, 2, 1, 3, 2, 0, 2, 2, 1,\n",
       "        2, 3, 1, 3, 2, 3, 2, 3, 2, 2, 1, 3, 2, 3, 3, 3, 1, 3, 2, 4, 3, 2,\n",
       "        3, 4, 2, 2, 1, 4, 3, 0, 2, 1, 4, 2, 3, 2, 4, 1, 2, 1, 2, 2, 4, 2,\n",
       "        3, 2, 0, 4, 3, 3, 2, 0, 2, 2, 3, 2, 2, 1, 1, 0, 3, 0, 3, 4, 0, 0,\n",
       "        2, 4, 1, 1, 3, 3, 4, 1, 2, 2, 3, 1, 0, 1, 1, 3, 2, 2, 0, 2, 3, 0,\n",
       "        2, 3, 1, 1, 2, 4, 2, 4, 3, 2, 2, 1, 3, 3, 3, 1, 2, 2, 3, 4, 1, 3,\n",
       "        3, 4, 3, 1, 3, 2, 4, 1, 3, 2, 0, 1, 1, 2, 4, 3, 0, 3, 2, 4, 0, 2,\n",
       "        3, 2, 3, 3, 2, 3, 3, 2, 0, 2, 2, 2, 3, 3, 3, 3, 1, 2, 4, 3, 3, 3,\n",
       "        4, 2, 2, 3, 1, 2, 3, 2, 3, 1, 3, 2, 3, 2, 3, 1, 1, 2, 3, 4, 4, 0,\n",
       "        4, 3, 2, 0, 2, 2, 3, 2, 3, 4, 4, 4, 4, 2, 1, 2, 3, 4, 4, 4, 3, 4,\n",
       "        4, 0, 1, 1, 1, 2, 4, 4, 2, 1, 3, 2, 3, 4, 1, 0, 0, 1, 0, 3, 2, 3,\n",
       "        2, 1, 4, 4, 3, 0, 3, 4, 3, 2, 2, 3, 3, 2, 2, 0, 2, 2, 2, 2, 4, 2,\n",
       "        2, 4, 1, 2, 3, 3, 3, 3, 4, 4, 0, 1, 3, 2, 0, 4, 3, 1, 3, 1, 4, 2,\n",
       "        3, 1, 3, 3, 1, 3, 3, 3, 1, 1, 3, 1, 2, 1, 2, 0, 2, 4, 2, 3, 3, 4,\n",
       "        4, 2, 2, 4, 0, 3, 4, 0, 2, 2, 4, 2, 4, 1, 3, 4, 3, 2, 3, 2, 1, 2,\n",
       "        3, 1, 3, 0, 4, 1, 3, 3, 3, 1, 3, 1, 1, 3, 1, 2, 4, 2, 1, 4, 3, 2,\n",
       "        1, 4, 4, 3, 3, 0, 3, 3, 1, 2, 0, 3, 1, 1, 3, 3, 0, 3, 0, 2, 2, 3,\n",
       "        4, 1, 3, 1, 1, 0, 1, 1, 2, 0, 2, 2, 2, 2, 0, 4, 2, 3, 2, 3, 3, 2,\n",
       "        1, 4, 0, 1, 2, 1, 1, 1, 0, 2, 3, 2, 1, 2, 2, 0, 1, 2, 2, 2, 4, 2,\n",
       "        2, 4, 4, 4, 3, 4, 3, 3, 2, 2, 3, 1, 3, 3, 2, 3, 0, 3, 3, 1, 4, 2,\n",
       "        3, 2, 2, 2, 2, 2, 2, 1, 2, 2, 3, 4, 1, 2, 3, 1, 1, 2, 4, 2, 0, 2,\n",
       "        3, 2, 2, 3, 0, 3, 4, 3, 2, 4, 2, 1, 2, 2, 4, 4, 1, 2, 1, 2, 2, 2,\n",
       "        1, 3, 4, 2, 2, 2, 4, 2, 1, 3, 3, 4, 3, 0, 1, 2, 1, 4, 3, 3, 0, 3,\n",
       "        1, 4, 4, 3, 1, 1, 0, 2, 2, 3, 1, 4, 2, 4, 3, 3, 2, 4, 4, 3, 1, 2,\n",
       "        1, 1, 0, 3, 1, 4, 4, 2, 0, 3, 1, 2, 3, 3, 3, 3, 4, 1, 2, 4, 3, 2,\n",
       "        0, 2, 2, 2, 4, 3, 2, 1, 4, 4, 2, 2, 4, 4, 1, 2, 1, 3, 2, 2, 0, 4,\n",
       "        1, 4, 4, 3, 1, 3, 0, 1, 2, 2, 3, 3, 2, 2, 2, 3, 1, 2, 1, 3, 3, 2,\n",
       "        2, 3, 0, 3, 3, 4, 1, 3, 2, 3, 0, 4, 4, 3, 2, 3, 2, 0, 0, 4, 3, 0,\n",
       "        2, 0, 3, 3, 3, 1, 1, 0, 4, 2, 3, 1, 2, 1, 3, 2, 1, 2, 0, 4, 3, 1,\n",
       "        2, 2, 2, 4, 1, 3, 3, 4, 2, 4, 2, 1, 3, 1, 1, 4, 3, 3, 2, 4, 2, 4,\n",
       "        3, 3, 3, 0, 2, 2, 2, 1, 1, 2, 2, 2, 1, 1, 3, 3, 3, 2, 2, 0, 2, 4,\n",
       "        2, 3, 4, 2, 4, 2, 3, 3, 1, 1, 3, 2, 2, 3, 2, 4, 2, 1, 1, 4, 3, 2,\n",
       "        3, 4, 1, 2, 0, 3, 4, 4, 2, 0, 4, 0, 3, 4, 1, 2, 1, 4, 1, 2, 0, 2,\n",
       "        1, 2, 0, 0, 3, 3, 3, 4, 2, 0, 3, 4, 3, 3, 0, 3, 2, 3, 1, 4, 4, 1,\n",
       "        2, 3, 2, 3, 4, 3, 4, 4, 4, 2, 2, 2, 3, 2, 2, 2, 2, 3, 3, 4, 3, 1,\n",
       "        1, 1, 3, 4, 2, 2, 1, 2, 2, 2, 1, 4, 2, 2, 1, 3, 1, 1, 4, 3, 3, 2,\n",
       "        3, 2, 4, 2, 1, 1, 2, 1, 4, 2, 3, 3, 3, 2, 0, 3, 0, 0, 2, 3, 4, 4,\n",
       "        1, 1, 1, 3, 4, 1, 4, 2, 3, 0]),\n",
       " 'position': None,\n",
       " 'reward': array([ 3355,  2077,   401, -2000,     0, -2000,  6742, -2000, -8474,\n",
       "        -2000,  -100,  -100, -8498, -7924,  1576, -2000,  -100,   234,\n",
       "         1901, -2000,  1846, -4466,  -100,  -500, -2000,  6582,     0,\n",
       "         1002,   401,  2744,  1026,  -100, -2000, -8849,  -100, -4138,\n",
       "          401,  3534,     0,  1734,    76,  7509,   -42,  2744, -2000,\n",
       "         -500,  1734,  2477,   501,    76,  -100,   234,   234,  1002,\n",
       "         4488,  -100,  -100,  -500, -2000,   735,  1091,   612,   577,\n",
       "            0,   691,  1285,   382,  4641,  7037,  1901, -2000,  -500,\n",
       "        -2000,  -500,     0, -4466,  -500,  2077,  -500,  -100,   577,\n",
       "         -500,   335, -4466, -2000,  -500,  3534, -2000,  -500,  1576,\n",
       "            0,    76,  -100,  -500,  3987,  -100,  -100,  -100,  -100,\n",
       "        -2000,   401,  3407,  5725,  -500,     0, 14414, -2000,  -100,\n",
       "        10736,  -500,  1901,  -100,  6582,  -100,  1734,  1152,  -500,\n",
       "         -500,  -100,  3355,   993,  -100,  -500, 10625, -2000,  2096,\n",
       "         1587,     0,  -100,   401,  1576,  6018,  -500,  -500,  1734,\n",
       "         2301,  -100,  -809,   401,  -100,  1608,     0,  1576,     0,\n",
       "        -2000,  3355,  -100,  2744,     0,  6742,  1285,  -100,  -100,\n",
       "         -500,     0,  1038,  1152, -2000, -2000,  -100,  -100,  -500,\n",
       "         2625,  3355,   401,  2625,  -500,  -100,  -500,  3407,  -500,\n",
       "         1901, -2000, -2000, -2000,  2096,  1976,  2155, -2000,     0,\n",
       "            0,  1576,  -100,  6742,  2625,  3534, -2000,  -100,  -100,\n",
       "         1026,  -500,  -100, -2000,   382,     0,  1152,  1152,   735,\n",
       "         -500,    76,  -100, 10744,  -134,  -829,  -500, -2000,  1576,\n",
       "          501,  -100,  4488,  1285, -2000, -2000,   234,  -100, -2000,\n",
       "          350,  1038,   577,   796,  5725,  2155,  -500,  -500,  -100,\n",
       "         3355,  3534,     0,  -500,  -100, 14414,  1576, -2000,  -500,\n",
       "            0,  -100,  -500,   750,  -500,  -500,   509,   796,   234,\n",
       "          593,     0,     0,  2096,   401,  -500,     0,  -500,  -500,\n",
       "         3534,   671,  -500,  -100,  -100,     0,    76,     0,  1122,\n",
       "         1038,     0,     0,  2077,  2744,  -100,  -100,  1846, -2000,\n",
       "        -1418,  -100,  -500,  -500, -2000,  -100,     0,  -100,  2301,\n",
       "          401,  2077,  -500,     0,  -500, -2000,     0,  -500, 10625,\n",
       "         -100,   735,  -500,  3355,  -500, 12519, -2000,   350,  -500,\n",
       "         -100,    76,   577,  4488,  2301,  -500,  1576, -2000,  4641,\n",
       "         -100,   577, -2000,  4641, -2000,   735,   401,   691, 10736,\n",
       "         -100, 10155,  -500,     0,  -100,  -100,  -500, -8849,  3534,\n",
       "            0, -2000,  -500,  -491,     0,  -500, -2000,  1026, 11987,\n",
       "        -2000,  -500,  7509, -2000,  -500,     0,  -500,  -500,  -500,\n",
       "           76, -2000,  1846,  1122,  -100,  -500,  -100, -2000,  1164,\n",
       "         2096, -8849,   -42,  -500,  1608,  -100,  -500, -2000,   651,\n",
       "        -2000,  -100,  1608,  5034,  4488,  -500,  3534,  3064,  -100,\n",
       "         1002, 10744,  3987,  6018,     0,     0, -2000,   651,     0,\n",
       "         1734,  -500, 11987,  -500, -2000,  3355,  1038,  -963,  3355,\n",
       "          350,  -100,  -500,   577,  6018,  6018, -8498,    76,  3355,\n",
       "        37333,     0,  -100,  1685,  -100,  -500,  1038,   509,  1734,\n",
       "          993, -2000,  -500,  5725,  2155,  -100,     0,     0,  -100,\n",
       "            0, -2000,  -500,    76,  -500,   735,  2744, 10736, -2000,\n",
       "            0,   234,  6018, -2000,  1002,  -500,   577,   577,  -500,\n",
       "          796,     0,  -500,  -500,  1152,  -500,  2744,  -500,  1734,\n",
       "         6742,  -100,  -500,  4488,  3534, -2000,  2633,   509,   509,\n",
       "            0,  -100,  6582,  -500,     0, 14414, -2000,  -100, 14742,\n",
       "         -100,  1038,  -500, -2000,  -100, -2000, 10625,  1976, -2000,\n",
       "          577,    76,  -100,  -100, -2000,  1976,  -500,  -100,  2077,\n",
       "            0,  -500, -8269,  -500,  7037,  7509,  3355,  2744,  -500,\n",
       "         1026,  2744,     0, -2000, 37333,     0,   501,  -500,  4641,\n",
       "         -500,     0,  -100, -2000,     0, -2000,  -500,    76,  -500,\n",
       "         -100,  -500, -2000,  -100, -2000,     0,  1038,  1685, -2000,\n",
       "        -2000, -2000,  -100, -2000,  -100,  -100,   401,  -100,   382,\n",
       "        10736,  -500,  -100, -7924,   234,  -500,  -100,   509, 13452,\n",
       "        -2000,   401,     0,   234,  3534,   735,  -500,     0,  2096,\n",
       "         -100,  1976,    76, -2000,     0, -2000,     0,  1576,   382,\n",
       "        -2000,  6742,  -100,   234,  -100,  -100,     0,  -100,  -100,\n",
       "         -500,     0,  -500,  1901,  1026,  1576,     0,   509,  -500,\n",
       "        -2000,  -500, -2000, -2000,   -42,  -100, -8474,     0,  1976,\n",
       "          691,  1051,  -100,  -100,     0,  -500,   234,  1901,  -100,\n",
       "         -500,  1026,     0,  -100,  -500,  2077,  1576,  4641,  -500,\n",
       "         1285, -7599,  1587,  2744, -2000,   509,  3534,  1608,   382,\n",
       "         -500,   401,  1976,   234, -2000,  -500, -2000,     0,  -215,\n",
       "        -2000,  -100,  2744,   593,  5725,   671,  -500,   501,  -500,\n",
       "         1285,  -500,  -100,  1734,  -500,    76,  2744,  -100,  -500,\n",
       "        -2000,  -100,  -100,  -500,  1038,  5034,     0,   671, -2000,\n",
       "         -500,  1152, -2000,     0,  1608,  1038, -2000,   335,  2155,\n",
       "         1734,  2301,  -500,  -500, -7599,     0,  -100,  -500,  -100,\n",
       "         1576,  -500,  -500,  -100,  3534,  1038,  -500,  1152,  1152,\n",
       "         3355,  -500,  -100, -2000,   577, 12519,   234,     0,  -100,\n",
       "         1576,  -100,  3355, -2000, -2000,     0, -2000,  -100, 10736,\n",
       "         3987, 10744,  -100,  -100,     0,  1576,  1576, -2000,  -100,\n",
       "        -7924,  -500, 14414, -2000,    76,  1576,  4641, 10736,   577,\n",
       "         -100,  -500,  -100,  -100,     0,  6582,  1976,     0, 12519,\n",
       "         -500,     0, -2000,  -100,  1734,   234, -2000, -2000,  2920,\n",
       "            0,  -100,  -500,  1038,   234,  1734,     0,  -500,  -500,\n",
       "         -500,  2625, -2000,  1285,  -100, 10736,  3355,  -500,  -500,\n",
       "        -8498,  -963,  -100,   350,  -100, -2000,  -500,  -500,     0,\n",
       "        -5904,  -100,  2744,  3355,   234,  -100,  2633,     0,  -100,\n",
       "         -500,  -500, -2000, -2000,  1285,  -500,  -500, -2000,  1071,\n",
       "         1576,  -100,  3534,   577,  2458,  -500,  -809,     0,   234,\n",
       "        -2000, -8348,  -100, -2000,  1734, -2000,     0,  6018,  3355,\n",
       "        -2000,  -500,   958,  -500,     0,     0, 10736,    76,     0,\n",
       "          382,     0,  7509, -2000, 11987,  -100,   266,     0, -4466,\n",
       "         -500,   234,  -100,  1285,  -100,  3534,  2458,   358,  1285,\n",
       "            0,  1038, -2000,  -100,  -500,  -500,  -500,   509,  -100,\n",
       "          577, -1542, 14414,  1026, 37333,  1576,  -100,   401,  -100,\n",
       "          266,  2155,    76,  3534,  -500, 14414,  -500,  6742,  6582,\n",
       "         1608, -2000,     0,  -500,   335,  1285,  -100,  -100,  -500,\n",
       "         -500,  -500,  -100,  -100, -2000, -2000,  3862,  -500,   501,\n",
       "            0,  2077, 12519,  1002,  3862,  2155,  1285,  6742,  2077,\n",
       "        -2000,  1608,  -100,  -100,    76,  1026,  5034, 10155,  1285,\n",
       "          509,  -500,  -100,  -100,  2744,  1846,  -500, -2000,  3987,\n",
       "         -100,  1576,     0, -2000,  1038,  1587,  -500,     0,  6742,\n",
       "            0,   401,  1038,  -100,  -500,  1976,  3355,   782,  -500,\n",
       "            0,  1734,  1685,  -500,     0,     0,  7037, -2000,  7509,\n",
       "          509,  -500,     0, -2000, -8704,  3534,   401,     0, -2000,\n",
       "         -500, -2000,  -100,  2625, -8215,  -100,  2664, -2000,   -42,\n",
       "         3534,  3355,    76, 12519, 14414,  3355,  -500,  1002,  -500,\n",
       "          958,   335,   796,   612,  -500, -2000, -2000, -8829, -2000,\n",
       "         -100,   358,  -100, -2000,  2155,  -500,  -500,  -100,  1576,\n",
       "         -500,  1002,  -100,  2744,   335,  -500,  -100,    76,  -100,\n",
       "         -100,  2744,  3407, -2000,  -500,  2096,  -500,  3355,  1285,\n",
       "         -100,  -100,  -500,  1091,  6742,  -500,  3534,    76, -2000,\n",
       "         1576,     0,  8509,     0,     0,  -500,    76, -4466, 12519,\n",
       "         -100,  -100,  -100,  7509,  2155,  -100,  2744,  1285, -2000,\n",
       "            0]),\n",
       " 'expected_reward': array([[    0.        ,  -100.        ,  -500.        , -1999.39371146,\n",
       "          3355.        ],\n",
       "        [    0.        ,  2476.99999469,  2077.        ,   577.        ,\n",
       "         -7423.        ],\n",
       "        [    0.        ,   -99.99926553,  1901.        ,   401.        ,\n",
       "         -7599.        ],\n",
       "        ...,\n",
       "        [    0.        ,   -99.99945396,  1285.        ,  -215.        ,\n",
       "         -8215.        ],\n",
       "        [    0.        ,  -100.        ,  -500.        , -1999.80215609,\n",
       "         -5642.        ],\n",
       "        [    0.        ,   266.        ,  -134.        , -1634.        ,\n",
       "         -9634.        ]]),\n",
       " 'pscore': array([0.5 , 0.3 , 0.4 , 0.4 , 0.05, 0.4 , 0.5 , 0.4 , 0.05, 0.4 , 0.2 ,\n",
       "        0.2 , 0.05, 0.05, 0.3 , 0.2 , 0.4 , 0.4 , 0.3 , 0.2 , 0.4 , 0.05,\n",
       "        0.1 , 0.3 , 0.2 , 0.4 , 0.5 , 0.5 , 0.4 , 0.5 , 0.5 , 0.3 , 0.4 ,\n",
       "        0.05, 0.3 , 0.05, 0.4 , 0.4 , 0.1 , 0.3 , 0.4 , 0.4 , 0.1 , 0.5 ,\n",
       "        0.4 , 0.1 , 0.3 , 0.2 , 0.5 , 0.4 , 0.2 , 0.4 , 0.4 , 0.5 , 0.4 ,\n",
       "        0.1 , 0.2 , 0.3 , 0.4 , 0.3 , 0.3 , 0.5 , 0.4 , 0.1 , 0.5 , 0.5 ,\n",
       "        0.5 , 0.5 , 0.4 , 0.3 , 0.2 , 0.1 , 0.4 , 0.1 , 0.05, 0.05, 0.3 ,\n",
       "        0.3 , 0.1 , 0.3 , 0.4 , 0.3 , 0.5 , 0.05, 0.2 , 0.3 , 0.4 , 0.2 ,\n",
       "        0.3 , 0.3 , 0.1 , 0.4 , 0.1 , 0.3 , 0.5 , 0.3 , 0.2 , 0.2 , 0.2 ,\n",
       "        0.2 , 0.4 , 0.4 , 0.4 , 0.3 , 0.5 , 0.5 , 0.4 , 0.2 , 0.5 , 0.1 ,\n",
       "        0.3 , 0.3 , 0.4 , 0.2 , 0.3 , 0.5 , 0.1 , 0.3 , 0.3 , 0.5 , 0.3 ,\n",
       "        0.3 , 0.1 , 0.2 , 0.4 , 0.4 , 0.5 , 0.5 , 0.2 , 0.4 , 0.3 , 0.5 ,\n",
       "        0.3 , 0.3 , 0.3 , 0.2 , 0.2 , 0.05, 0.4 , 0.2 , 0.4 , 0.05, 0.3 ,\n",
       "        0.1 , 0.2 , 0.5 , 0.3 , 0.5 , 0.05, 0.5 , 0.5 , 0.2 , 0.3 , 0.3 ,\n",
       "        0.1 , 0.5 , 0.5 , 0.4 , 0.4 , 0.2 , 0.2 , 0.3 , 0.5 , 0.5 , 0.4 ,\n",
       "        0.5 , 0.1 , 0.2 , 0.3 , 0.4 , 0.3 , 0.3 , 0.4 , 0.4 , 0.2 , 0.4 ,\n",
       "        0.2 , 0.5 , 0.4 , 0.05, 0.1 , 0.3 , 0.3 , 0.5 , 0.5 , 0.4 , 0.4 ,\n",
       "        0.3 , 0.1 , 0.5 , 0.5 , 0.2 , 0.4 , 0.5 , 0.1 , 0.5 , 0.5 , 0.3 ,\n",
       "        0.3 , 0.4 , 0.1 , 0.2 , 0.1 , 0.05, 0.1 , 0.4 , 0.3 , 0.5 , 0.1 ,\n",
       "        0.4 , 0.5 , 0.4 , 0.4 , 0.4 , 0.2 , 0.4 , 0.5 , 0.5 , 0.4 , 0.5 ,\n",
       "        0.4 , 0.5 , 0.3 , 0.3 , 0.2 , 0.5 , 0.4 , 0.05, 0.3 , 0.2 , 0.5 ,\n",
       "        0.3 , 0.2 , 0.3 , 0.5 , 0.2 , 0.3 , 0.3 , 0.3 , 0.1 , 0.5 , 0.5 ,\n",
       "        0.4 , 0.5 , 0.1 , 0.5 , 0.4 , 0.4 , 0.5 , 0.4 , 0.3 , 0.3 , 0.4 ,\n",
       "        0.5 , 0.3 , 0.2 , 0.2 , 0.1 , 0.4 , 0.1 , 0.4 , 0.5 , 0.1 , 0.4 ,\n",
       "        0.3 , 0.5 , 0.3 , 0.2 , 0.4 , 0.4 , 0.05, 0.2 , 0.3 , 0.3 , 0.4 ,\n",
       "        0.2 , 0.05, 0.1 , 0.2 , 0.4 , 0.3 , 0.3 , 0.4 , 0.5 , 0.4 , 0.1 ,\n",
       "        0.5 , 0.2 , 0.2 , 0.3 , 0.1 , 0.5 , 0.3 , 0.5 , 0.4 , 0.5 , 0.3 ,\n",
       "        0.2 , 0.4 , 0.4 , 0.4 , 0.2 , 0.3 , 0.3 , 0.4 , 0.5 , 0.2 , 0.4 ,\n",
       "        0.4 , 0.5 , 0.2 , 0.3 , 0.4 , 0.5 , 0.5 , 0.2 , 0.2 , 0.3 , 0.05,\n",
       "        0.1 , 0.1 , 0.3 , 0.05, 0.4 , 0.1 , 0.4 , 0.3 , 0.05, 0.1 , 0.3 ,\n",
       "        0.2 , 0.5 , 0.2 , 0.4 , 0.5 , 0.4 , 0.4 , 0.5 , 0.1 , 0.1 , 0.1 ,\n",
       "        0.3 , 0.4 , 0.2 , 0.4 , 0.4 , 0.1 , 0.3 , 0.05, 0.4 , 0.4 , 0.4 ,\n",
       "        0.05, 0.1 , 0.3 , 0.4 , 0.2 , 0.3 , 0.4 , 0.5 , 0.2 , 0.2 , 0.4 ,\n",
       "        0.3 , 0.4 , 0.1 , 0.4 , 0.2 , 0.2 , 0.5 , 0.2 , 0.5 , 0.5 , 0.4 ,\n",
       "        0.5 , 0.2 , 0.5 , 0.1 , 0.3 , 0.5 , 0.2 , 0.3 , 0.4 , 0.5 , 0.5 ,\n",
       "        0.05, 0.5 , 0.5 , 0.2 , 0.3 , 0.4 , 0.5 , 0.5 , 0.05, 0.4 , 0.5 ,\n",
       "        0.5 , 0.1 , 0.3 , 0.3 , 0.1 , 0.3 , 0.5 , 0.5 , 0.3 , 0.3 , 0.4 ,\n",
       "        0.3 , 0.4 , 0.5 , 0.2 , 0.1 , 0.1 , 0.1 , 0.1 , 0.4 , 0.3 , 0.4 ,\n",
       "        0.5 , 0.3 , 0.5 , 0.5 , 0.4 , 0.1 , 0.4 , 0.5 , 0.4 , 0.5 , 0.3 ,\n",
       "        0.4 , 0.4 , 0.3 , 0.5 , 0.05, 0.3 , 0.3 , 0.5 , 0.3 , 0.5 , 0.3 ,\n",
       "        0.3 , 0.5 , 0.2 , 0.1 , 0.4 , 0.4 , 0.4 , 0.4 , 0.5 , 0.5 , 0.1 ,\n",
       "        0.1 , 0.4 , 0.3 , 0.1 , 0.5 , 0.4 , 0.2 , 0.2 , 0.2 , 0.5 , 0.3 ,\n",
       "        0.2 , 0.2 , 0.4 , 0.2 , 0.2 , 0.4 , 0.4 , 0.4 , 0.2 , 0.1 , 0.2 ,\n",
       "        0.2 , 0.5 , 0.2 , 0.3 , 0.4 , 0.3 , 0.05, 0.5 , 0.4 , 0.4 , 0.5 ,\n",
       "        0.5 , 0.1 , 0.5 , 0.5 , 0.05, 0.4 , 0.5 , 0.05, 0.5 , 0.3 , 0.5 ,\n",
       "        0.3 , 0.5 , 0.2 , 0.4 , 0.5 , 0.4 , 0.3 , 0.4 , 0.3 , 0.2 , 0.3 ,\n",
       "        0.4 , 0.3 , 0.4 , 0.05, 0.5 , 0.3 , 0.2 , 0.2 , 0.4 , 0.2 , 0.2 ,\n",
       "        0.2 , 0.2 , 0.4 , 0.3 , 0.5 , 0.5 , 0.3 , 0.3 , 0.05, 0.4 , 0.3 ,\n",
       "        0.2 , 0.5 , 0.5 , 0.4 , 0.4 , 0.05, 0.4 , 0.4 , 0.3 , 0.3 , 0.1 ,\n",
       "        0.4 , 0.2 , 0.2 , 0.4 , 0.4 , 0.05, 0.4 , 0.1 , 0.3 , 0.5 , 0.2 ,\n",
       "        0.5 , 0.1 , 0.4 , 0.2 , 0.2 , 0.1 , 0.2 , 0.3 , 0.3 , 0.05, 0.3 ,\n",
       "        0.3 , 0.5 , 0.3 , 0.05, 0.5 , 0.3 , 0.2 , 0.1 , 0.4 , 0.4 , 0.1 ,\n",
       "        0.3 , 0.05, 0.4 , 0.2 , 0.5 , 0.3 , 0.2 , 0.3 , 0.1 , 0.3 , 0.4 ,\n",
       "        0.3 , 0.1 , 0.3 , 0.5 , 0.4 , 0.1 , 0.3 , 0.3 , 0.3 , 0.5 , 0.5 ,\n",
       "        0.5 , 0.05, 0.5 , 0.5 , 0.2 , 0.5 , 0.4 , 0.4 , 0.5 , 0.3 , 0.4 ,\n",
       "        0.2 , 0.4 , 0.2 , 0.3 , 0.4 , 0.1 , 0.05, 0.2 , 0.1 , 0.5 , 0.5 ,\n",
       "        0.4 , 0.5 , 0.3 , 0.5 , 0.1 , 0.5 , 0.3 , 0.3 , 0.3 , 0.3 , 0.4 ,\n",
       "        0.5 , 0.2 , 0.3 , 0.4 , 0.1 , 0.2 , 0.3 , 0.5 , 0.3 , 0.1 , 0.5 ,\n",
       "        0.4 , 0.3 , 0.5 , 0.4 , 0.4 , 0.4 , 0.5 , 0.4 , 0.5 , 0.5 , 0.3 ,\n",
       "        0.2 , 0.3 , 0.3 , 0.05, 0.5 , 0.3 , 0.3 , 0.1 , 0.3 , 0.3 , 0.3 ,\n",
       "        0.3 , 0.4 , 0.5 , 0.3 , 0.5 , 0.5 , 0.5 , 0.1 , 0.2 , 0.2 , 0.4 ,\n",
       "        0.5 , 0.4 , 0.1 , 0.1 , 0.3 , 0.2 , 0.5 , 0.2 , 0.4 , 0.1 , 0.4 ,\n",
       "        0.3 , 0.5 , 0.5 , 0.2 , 0.2 , 0.2 , 0.1 , 0.3 , 0.3 , 0.4 , 0.2 ,\n",
       "        0.05, 0.1 , 0.5 , 0.2 , 0.4 , 0.3 , 0.5 , 0.5 , 0.4 , 0.4 , 0.3 ,\n",
       "        0.2 , 0.3 , 0.1 , 0.4 , 0.2 , 0.5 , 0.5 , 0.3 , 0.05, 0.4 , 0.3 ,\n",
       "        0.3 , 0.4 , 0.4 , 0.4 , 0.4 , 0.5 , 0.2 , 0.3 , 0.5 , 0.4 , 0.3 ,\n",
       "        0.1 , 0.1 , 0.3 , 0.3 , 0.5 , 0.2 , 0.5 , 0.1 , 0.5 , 0.5 , 0.5 ,\n",
       "        0.3 , 0.05, 0.05, 0.2 , 0.5 , 0.2 , 0.4 , 0.3 , 0.1 , 0.1 , 0.05,\n",
       "        0.3 , 0.5 , 0.5 , 0.4 , 0.1 , 0.4 , 0.05, 0.3 , 0.3 , 0.3 , 0.2 ,\n",
       "        0.2 , 0.5 , 0.5 , 0.3 , 0.4 , 0.3 , 0.3 , 0.3 , 0.4 , 0.4 , 0.3 ,\n",
       "        0.5 , 0.05, 0.05, 0.4 , 0.4 , 0.05, 0.2 , 0.4 , 0.3 , 0.2 , 0.05,\n",
       "        0.5 , 0.5 , 0.2 , 0.3 , 0.4 , 0.3 , 0.1 , 0.1 , 0.5 , 0.4 , 0.1 ,\n",
       "        0.5 , 0.1 , 0.4 , 0.2 , 0.2 , 0.2 , 0.4 , 0.4 , 0.05, 0.3 , 0.4 ,\n",
       "        0.2 , 0.5 , 0.1 , 0.4 , 0.3 , 0.4 , 0.5 , 0.1 , 0.5 , 0.4 , 0.3 ,\n",
       "        0.3 , 0.1 , 0.3 , 0.5 , 0.2 , 0.4 , 0.05, 0.5 , 0.5 , 0.5 , 0.3 ,\n",
       "        0.2 , 0.4 , 0.3 , 0.4 , 0.5 , 0.4 , 0.4 , 0.3 , 0.5 , 0.3 , 0.5 ,\n",
       "        0.4 , 0.4 , 0.4 , 0.05, 0.3 , 0.5 , 0.5 , 0.2 , 0.2 , 0.3 , 0.3 ,\n",
       "        0.3 , 0.2 , 0.1 , 0.2 , 0.4 , 0.4 , 0.3 , 0.5 , 0.4 , 0.3 , 0.5 ,\n",
       "        0.5 , 0.4 , 0.5 , 0.5 , 0.5 , 0.3 , 0.4 , 0.4 , 0.4 , 0.2 , 0.4 ,\n",
       "        0.5 , 0.3 , 0.2 , 0.5 , 0.5 , 0.3 , 0.1 , 0.1 , 0.5 , 0.4 , 0.3 ,\n",
       "        0.2 , 0.5 , 0.2 , 0.3 , 0.1 , 0.4 , 0.5 , 0.5 , 0.1 , 0.05, 0.5 ,\n",
       "        0.05, 0.4 , 0.5 , 0.1 , 0.3 , 0.2 , 0.5 , 0.3 , 0.1 , 0.05, 0.3 ,\n",
       "        0.3 , 0.3 , 0.1 , 0.05, 0.4 , 0.4 , 0.4 , 0.5 , 0.5 , 0.1 , 0.2 ,\n",
       "        0.05, 0.4 , 0.4 , 0.1 , 0.2 , 0.3 , 0.2 , 0.2 , 0.5 , 0.05, 0.2 ,\n",
       "        0.3 , 0.4 , 0.1 , 0.4 , 0.5 , 0.4 , 0.5 , 0.5 , 0.5 , 0.5 , 0.5 ,\n",
       "        0.3 , 0.4 , 0.5 , 0.5 , 0.5 , 0.1 , 0.2 , 0.2 , 0.05, 0.4 , 0.2 ,\n",
       "        0.4 , 0.2 , 0.4 , 0.5 , 0.3 , 0.3 , 0.2 , 0.3 , 0.3 , 0.5 , 0.2 ,\n",
       "        0.5 , 0.5 , 0.3 , 0.2 , 0.4 , 0.2 , 0.3 , 0.5 , 0.4 , 0.2 , 0.3 ,\n",
       "        0.4 , 0.3 , 0.5 , 0.5 , 0.3 , 0.3 , 0.5 , 0.3 , 0.5 , 0.3 , 0.4 ,\n",
       "        0.4 , 0.4 , 0.3 , 0.4 , 0.2 , 0.05, 0.05, 0.5 , 0.4 , 0.05, 0.5 ,\n",
       "        0.3 , 0.2 , 0.1 , 0.4 , 0.5 , 0.2 , 0.5 , 0.5 , 0.4 , 0.4 ]),\n",
       " 'binary_reward': array([1, 1, 1, 0, 0, 0, 1, 0, 1, 0, 0, 0, 1, 1, 1, 0, 0, 1, 1, 0, 1, 1,\n",
       "        0, 0, 0, 1, 1, 1, 1, 1, 1, 0, 0, 1, 0, 1, 1, 1, 0, 1, 1, 1, 1, 1,\n",
       "        0, 0, 1, 1, 1, 1, 0, 1, 1, 1, 1, 0, 0, 0, 0, 1, 1, 1, 1, 0, 1, 1,\n",
       "        1, 1, 1, 1, 0, 0, 0, 0, 0, 1, 0, 1, 0, 0, 1, 0, 1, 1, 0, 0, 1, 0,\n",
       "        0, 1, 0, 1, 0, 0, 1, 0, 0, 0, 0, 0, 1, 1, 1, 0, 1, 1, 0, 0, 1, 0,\n",
       "        1, 0, 1, 0, 1, 1, 0, 0, 0, 1, 1, 0, 0, 1, 0, 1, 1, 1, 0, 1, 1, 1,\n",
       "        0, 0, 1, 1, 0, 1, 1, 0, 1, 0, 1, 0, 0, 1, 0, 1, 0, 1, 1, 0, 0, 0,\n",
       "        0, 1, 1, 0, 0, 0, 0, 0, 1, 1, 1, 1, 0, 0, 0, 1, 0, 1, 0, 0, 0, 1,\n",
       "        1, 1, 0, 0, 0, 1, 0, 1, 1, 1, 0, 0, 0, 1, 0, 0, 0, 1, 0, 1, 1, 1,\n",
       "        0, 1, 0, 1, 1, 1, 0, 0, 1, 1, 0, 1, 1, 0, 0, 1, 0, 0, 1, 1, 1, 1,\n",
       "        1, 1, 0, 0, 0, 1, 1, 0, 0, 0, 1, 1, 0, 0, 1, 0, 0, 1, 0, 0, 1, 1,\n",
       "        1, 1, 0, 1, 1, 1, 0, 0, 0, 0, 1, 1, 0, 0, 0, 0, 1, 0, 1, 1, 0, 0,\n",
       "        1, 1, 0, 0, 1, 0, 1, 0, 0, 0, 0, 0, 0, 0, 1, 1, 1, 0, 0, 0, 0, 0,\n",
       "        0, 1, 0, 1, 0, 1, 0, 1, 0, 1, 0, 0, 1, 1, 1, 1, 0, 1, 0, 1, 0, 1,\n",
       "        0, 1, 0, 1, 1, 1, 1, 0, 1, 0, 0, 0, 0, 0, 1, 1, 0, 0, 0, 1, 0, 0,\n",
       "        0, 1, 1, 0, 0, 1, 0, 0, 0, 0, 0, 0, 1, 0, 1, 1, 0, 0, 1, 0, 1, 1,\n",
       "        1, 1, 0, 1, 0, 0, 0, 1, 0, 0, 1, 1, 1, 0, 1, 1, 0, 1, 1, 1, 1, 0,\n",
       "        1, 0, 1, 0, 1, 0, 1, 0, 0, 1, 1, 1, 1, 1, 0, 0, 1, 1, 1, 1, 1, 1,\n",
       "        1, 0, 0, 1, 0, 0, 1, 1, 1, 1, 0, 0, 1, 1, 0, 0, 0, 0, 0, 0, 0, 1,\n",
       "        0, 1, 1, 1, 0, 0, 1, 1, 0, 1, 0, 1, 1, 0, 1, 0, 0, 0, 1, 0, 1, 0,\n",
       "        1, 1, 0, 0, 1, 1, 0, 1, 1, 1, 0, 0, 1, 0, 0, 1, 0, 0, 1, 0, 1, 0,\n",
       "        0, 0, 0, 1, 1, 0, 1, 1, 0, 0, 0, 1, 0, 0, 1, 0, 0, 1, 0, 1, 1, 1,\n",
       "        1, 0, 1, 1, 0, 0, 1, 0, 1, 0, 1, 0, 1, 0, 0, 1, 0, 0, 1, 0, 0, 0,\n",
       "        0, 0, 0, 0, 1, 1, 0, 0, 0, 0, 0, 0, 0, 1, 0, 1, 1, 0, 0, 1, 1, 0,\n",
       "        0, 1, 1, 0, 1, 0, 1, 1, 1, 0, 0, 1, 0, 1, 1, 0, 0, 0, 0, 1, 1, 0,\n",
       "        1, 0, 1, 0, 0, 0, 0, 0, 0, 0, 0, 1, 1, 1, 0, 1, 0, 0, 0, 0, 0, 1,\n",
       "        0, 1, 0, 1, 1, 1, 0, 0, 0, 0, 1, 1, 0, 0, 1, 0, 0, 0, 1, 1, 1, 0,\n",
       "        1, 1, 1, 1, 0, 1, 1, 1, 1, 0, 1, 1, 1, 0, 0, 0, 0, 1, 0, 0, 1, 1,\n",
       "        1, 1, 0, 1, 0, 1, 0, 0, 1, 0, 1, 1, 0, 0, 0, 0, 0, 0, 1, 1, 0, 1,\n",
       "        0, 0, 1, 0, 0, 1, 1, 0, 1, 1, 1, 1, 0, 0, 1, 1, 0, 0, 0, 1, 0, 0,\n",
       "        0, 1, 1, 0, 1, 1, 1, 0, 0, 0, 1, 1, 1, 0, 0, 1, 0, 1, 0, 0, 0, 0,\n",
       "        0, 1, 1, 1, 0, 0, 0, 1, 1, 0, 0, 1, 0, 1, 0, 1, 1, 1, 1, 1, 0, 0,\n",
       "        0, 0, 0, 1, 1, 1, 1, 0, 0, 0, 0, 1, 1, 0, 0, 1, 1, 0, 0, 1, 1, 1,\n",
       "        0, 0, 0, 0, 1, 0, 1, 0, 1, 1, 0, 0, 1, 1, 0, 1, 0, 0, 0, 0, 0, 1,\n",
       "        0, 1, 1, 1, 0, 1, 0, 0, 0, 0, 0, 0, 1, 0, 0, 0, 1, 1, 0, 1, 1, 1,\n",
       "        0, 1, 0, 1, 0, 1, 0, 0, 1, 0, 0, 1, 1, 0, 0, 1, 0, 0, 0, 1, 1, 0,\n",
       "        1, 0, 1, 0, 1, 0, 1, 0, 1, 0, 1, 0, 1, 0, 1, 1, 1, 1, 0, 1, 0, 0,\n",
       "        0, 0, 0, 1, 0, 1, 1, 1, 1, 1, 1, 0, 1, 0, 1, 1, 1, 1, 0, 1, 0, 1,\n",
       "        1, 1, 0, 0, 0, 1, 1, 0, 0, 0, 0, 0, 0, 0, 0, 0, 1, 0, 1, 0, 1, 1,\n",
       "        1, 1, 1, 1, 1, 1, 0, 1, 0, 0, 1, 1, 1, 1, 1, 1, 0, 0, 0, 1, 1, 0,\n",
       "        0, 1, 0, 1, 0, 0, 1, 1, 0, 0, 1, 0, 1, 1, 0, 0, 1, 1, 1, 0, 0, 1,\n",
       "        1, 0, 0, 0, 1, 0, 1, 1, 0, 0, 0, 1, 1, 1, 0, 0, 0, 0, 0, 1, 1, 0,\n",
       "        1, 0, 1, 1, 1, 1, 1, 1, 1, 0, 1, 0, 1, 1, 1, 1, 0, 0, 0, 1, 0, 0,\n",
       "        1, 0, 0, 1, 0, 0, 0, 1, 0, 1, 0, 1, 1, 0, 0, 1, 0, 0, 1, 1, 0, 0,\n",
       "        1, 0, 1, 1, 0, 0, 0, 1, 1, 0, 1, 1, 0, 1, 0, 1, 0, 0, 0, 1, 1, 1,\n",
       "        0, 0, 0, 1, 1, 0, 1, 1, 0, 0])}"
      ]
     },
     "execution_count": 17,
     "metadata": {},
     "output_type": "execute_result"
    }
   ],
   "source": [
    "test_data"
   ]
  },
  {
   "cell_type": "markdown",
   "id": "2ee10cb3-e63a-4ba6-bb89-233b2c6e8b5a",
   "metadata": {},
   "source": [
    "# モデル訓練"
   ]
  },
  {
   "cell_type": "code",
   "execution_count": 18,
   "id": "ea7e6449-cf75-488f-b595-c74eae9440b6",
   "metadata": {
    "execution": {
     "iopub.execute_input": "2022-03-18T08:18:19.567750Z",
     "iopub.status.busy": "2022-03-18T08:18:19.567535Z",
     "iopub.status.idle": "2022-03-18T08:18:20.151884Z",
     "shell.execute_reply": "2022-03-18T08:18:20.150433Z",
     "shell.execute_reply.started": "2022-03-18T08:18:19.567723Z"
    }
   },
   "outputs": [],
   "source": [
    "def deterministic_rule_based_policy(pokemon_id: int) -> Tuple:\n",
    "    \"\"\"決定論的ルールベース・ポリシー\n",
    "\n",
    "    Returns:\n",
    "        逃げる, モンスターボール, スーパーボール, ハイパーボール, マスターボールの行動確率\n",
    "    \"\"\"\n",
    "    pokemon_zukan = PokemonZukan()\n",
    "\n",
    "    capture_dificulty = pokemon_zukan.get_capture_dificulty(pokemon_id)\n",
    "    reward = pokemon_zukan.get_reward(pokemon_id)\n",
    "    name = pokemon_zukan.get_name(pokemon_id)\n",
    "\n",
    "    if reward >= 10000:\n",
    "        return 0, 0, 0, 0, 1\n",
    "\n",
    "    if reward >= 2000:\n",
    "        return 0, 0, 0, 1, 0\n",
    "\n",
    "    if reward >= 500:\n",
    "        return 0, 0, 1, 0, 0\n",
    "\n",
    "    if reward >= 100:\n",
    "        return 0, 1, 0, 0, 0\n",
    "\n",
    "    return 1, 0, 0, 0, 0"
   ]
  },
  {
   "cell_type": "code",
   "execution_count": 19,
   "id": "2a206458-3945-4900-846c-4b174406d43d",
   "metadata": {
    "execution": {
     "iopub.execute_input": "2022-03-18T08:18:20.156850Z",
     "iopub.status.busy": "2022-03-18T08:18:20.156600Z",
     "iopub.status.idle": "2022-03-18T08:18:20.920557Z",
     "shell.execute_reply": "2022-03-18T08:18:20.918568Z",
     "shell.execute_reply.started": "2022-03-18T08:18:20.156817Z"
    }
   },
   "outputs": [],
   "source": [
    "class BaseModel(metaclass=ABCMeta):\n",
    "    \"\"\"意思決定モデルの基本クラス\n",
    "    \"\"\"\n",
    "\n",
    "    @abstractmethod\n",
    "    def fit(self, data: BanditFeedback) -> None:\n",
    "        \"\"\"訓練する\n",
    "        \"\"\"\n",
    "        raise NotImplementedError\n",
    "\n",
    "    @abstractmethod\n",
    "    def predict(self, context: np.ndarray) -> List[int]:\n",
    "        \"\"\"推論する\n",
    "        \"\"\"\n",
    "        raise NotImplementedError"
   ]
  },
  {
   "cell_type": "code",
   "execution_count": 20,
   "id": "990e8065-fa2b-4a59-91fd-91f09851449e",
   "metadata": {
    "execution": {
     "iopub.execute_input": "2022-03-18T08:18:20.925197Z",
     "iopub.status.busy": "2022-03-18T08:18:20.924988Z",
     "iopub.status.idle": "2022-03-18T08:18:21.421968Z",
     "shell.execute_reply": "2022-03-18T08:18:21.420622Z",
     "shell.execute_reply.started": "2022-03-18T08:18:20.925171Z"
    }
   },
   "outputs": [],
   "source": [
    "class IPWModel(BaseModel):\n",
    "    \"\"\"IPWを使った意思決定モデル\n",
    "    \"\"\"\n",
    "\n",
    "    def __init__(self) -> None:\n",
    "        self._model = NNPolicyLearner(\n",
    "            n_actions=len(ACTIONS),\n",
    "            dim_context=2,\n",
    "            off_policy_objective=IPS().estimate_policy_value_tensor,\n",
    "            random_state=615\n",
    "        )\n",
    "        self._scaler = StandardScaler()\n",
    "\n",
    "    def fit(self, data: BanditFeedback) -> None:\n",
    "        context = data[\"context\"][:, 1:]\n",
    "        self._scaler.fit(context)\n",
    "        scaled_context = self._scaler.transform(context)\n",
    "\n",
    "        self._model.fit(\n",
    "            context=scaled_context,\n",
    "            action=data[\"action\"],\n",
    "            # reward=data[\"binary_reward\"],\n",
    "            reward=data[\"reward\"],\n",
    "            pscore=data[\"pscore\"],\n",
    "        )\n",
    "\n",
    "    def predict(self, context: np.ndarray) -> np.ndarray:\n",
    "        scaled_context = self._scaler.transform(context[:, 1:])\n",
    "        return self._model.predict(context=scaled_context)"
   ]
  },
  {
   "cell_type": "code",
   "execution_count": 21,
   "id": "998e3ed5-0442-4bfb-ac27-847650e47f26",
   "metadata": {
    "execution": {
     "iopub.execute_input": "2022-03-18T08:18:21.427302Z",
     "iopub.status.busy": "2022-03-18T08:18:21.426943Z",
     "iopub.status.idle": "2022-03-18T08:18:21.896201Z",
     "shell.execute_reply": "2022-03-18T08:18:21.894560Z",
     "shell.execute_reply.started": "2022-03-18T08:18:21.427255Z"
    }
   },
   "outputs": [],
   "source": [
    "class RuleBasedModel(BaseModel):\n",
    "    \"\"\"ルールベース・ポリシーの意思決定モデル\n",
    "    \"\"\"\n",
    "\n",
    "    def __init__(self) -> None:\n",
    "        pass\n",
    "\n",
    "    def fit(self, data: BanditFeedback) -> None:\n",
    "        # 学習フェーズはない\n",
    "        pass\n",
    "\n",
    "    def predict(self, context: np.ndarray) -> np.ndarray:\n",
    "        pokemon_ids = context[:, 0]\n",
    "        predictions = []\n",
    "        for pokemon_id in pokemon_ids:\n",
    "            probabilities = rule_based_policy(pokemon_id)\n",
    "            prediction = np.random.multinomial(n=1, pvals=probabilities, size=1)[0]\n",
    "            predictions.append(prediction)\n",
    "        return np.array(predictions)[:, :, np.newaxis]"
   ]
  },
  {
   "cell_type": "code",
   "execution_count": 22,
   "id": "932137f0-4b02-40fb-8616-a633dad23937",
   "metadata": {
    "execution": {
     "iopub.execute_input": "2022-03-18T08:18:21.903493Z",
     "iopub.status.busy": "2022-03-18T08:18:21.903118Z",
     "iopub.status.idle": "2022-03-18T08:18:22.342471Z",
     "shell.execute_reply": "2022-03-18T08:18:22.340631Z",
     "shell.execute_reply.started": "2022-03-18T08:18:21.903447Z"
    }
   },
   "outputs": [],
   "source": [
    "class DeterministicRuleBasedModel(BaseModel):\n",
    "    \"\"\"決定論的ルールベース・ポリシーの意思決定モデル\n",
    "    \"\"\"\n",
    "\n",
    "    def __init__(self) -> None:\n",
    "        pass\n",
    "\n",
    "    def fit(self, data: BanditFeedback) -> None:\n",
    "        # 学習フェーズはない\n",
    "        pass\n",
    "\n",
    "    def predict(self, context: np.ndarray) -> np.ndarray:\n",
    "        pokemon_ids = context[:, 0]\n",
    "        predictions = []\n",
    "        for pokemon_id in pokemon_ids:\n",
    "            prediction = deterministic_rule_based_policy(pokemon_id)\n",
    "            predictions.append(np.array(prediction))\n",
    "        return np.array(predictions)[:, :, np.newaxis]"
   ]
  },
  {
   "cell_type": "code",
   "execution_count": 23,
   "id": "2b9005b9-631c-4b03-8782-f332c293592b",
   "metadata": {
    "execution": {
     "iopub.execute_input": "2022-03-18T08:18:22.351625Z",
     "iopub.status.busy": "2022-03-18T08:18:22.351249Z",
     "iopub.status.idle": "2022-03-18T08:18:23.033662Z",
     "shell.execute_reply": "2022-03-18T08:18:23.032469Z",
     "shell.execute_reply.started": "2022-03-18T08:18:22.351581Z"
    },
    "tags": []
   },
   "outputs": [],
   "source": [
    "models = dict(\n",
    "    IPW=IPWModel(),\n",
    "    RULE_BASED=RuleBasedModel(),\n",
    "    D_RULE_BASED=DeterministicRuleBasedModel(),\n",
    ")"
   ]
  },
  {
   "cell_type": "code",
   "execution_count": 24,
   "id": "235bc3df-a858-4ac9-b6a5-55d4d2d58b1d",
   "metadata": {
    "execution": {
     "iopub.execute_input": "2022-03-18T08:18:23.039770Z",
     "iopub.status.busy": "2022-03-18T08:18:23.039339Z",
     "iopub.status.idle": "2022-03-18T08:27:17.795809Z",
     "shell.execute_reply": "2022-03-18T08:27:17.795082Z",
     "shell.execute_reply.started": "2022-03-18T08:18:23.039725Z"
    },
    "tags": []
   },
   "outputs": [
    {
     "name": "stdout",
     "output_type": "stream",
     "text": [
      "train IPW\n",
      "predict IPW\n",
      "train RULE_BASED\n",
      "predict RULE_BASED\n",
      "train D_RULE_BASED\n",
      "predict D_RULE_BASED\n"
     ]
    }
   ],
   "source": [
    "action_choices_validation = dict()\n",
    "action_choices_test = dict()\n",
    "for model_name, model in models.items():\n",
    "    print(f'train {model_name}')\n",
    "    model.fit(data=training_data)\n",
    "\n",
    "    print(f'predict {model_name}')\n",
    "    action_choices_validation[model_name] = model.predict(validation_data['context'])\n",
    "    action_choices_test[model_name] = model.predict(test_data['context'])"
   ]
  },
  {
   "cell_type": "markdown",
   "id": "5115ea93-a10f-4a95-89cb-1d375e22ea33",
   "metadata": {},
   "source": [
    "# 検証"
   ]
  },
  {
   "cell_type": "code",
   "execution_count": 25,
   "id": "06c51aff-a26e-41f3-87cd-3671debdce91",
   "metadata": {
    "execution": {
     "iopub.execute_input": "2022-03-18T08:27:17.801132Z",
     "iopub.status.busy": "2022-03-18T08:27:17.800640Z",
     "iopub.status.idle": "2022-03-18T08:27:17.814366Z",
     "shell.execute_reply": "2022-03-18T08:27:17.813252Z",
     "shell.execute_reply.started": "2022-03-18T08:27:17.801069Z"
    },
    "tags": []
   },
   "outputs": [],
   "source": [
    "def validate(validation_data: BanditFeedback, action_choices: Dict[str, List]) -> None:\n",
    "    ope = OffPolicyEvaluation(\n",
    "        bandit_feedback=validation_data,  # バリデーションデータ\n",
    "        ope_estimators=[IPS(estimator_name=\"IPS\")]  # 使用する推定量\n",
    "    )\n",
    "\n",
    "    ope.visualize_off_policy_estimates_of_multiple_policies(\n",
    "        policy_name_list=list(action_choices.keys()),\n",
    "        action_dist_list=list(action_choices.values()),\n",
    "        random_state=12345,\n",
    "    )\n",
    "    plt.show()\n",
    "\n",
    "    # 可視化\n",
    "    capture_dificulties = defaultdict(list)\n",
    "    rewards = defaultdict(list)\n",
    "    for action, context in zip(action_choices['IPW'], validation_data['context']):\n",
    "        capture_dificulty = context[1]\n",
    "        reward = context[2]\n",
    "        action_id = np.argmax(action)\n",
    "\n",
    "        capture_dificulties[action_id].append(capture_dificulty)\n",
    "        rewards[action_id].append(reward)\n",
    "\n",
    "    fig = plt.figure(figsize=(8, 12))\n",
    "    ax = fig.add_subplot(111)\n",
    "\n",
    "    ax.axhline(ACTIONS[4].cost, ls=\"-.\", color=\"magenta\")  # マスターボールの価格にラインを引く\n",
    "\n",
    "    for i, action in enumerate(ACTIONS):\n",
    "        plt.scatter(capture_dificulties[i], rewards[i], label=action.label_en, c=action.color, marker=action.marker)\n",
    "\n",
    "    plt.legend(fontsize='xx-large')\n",
    "    plt.xlabel('Capture difficulty')\n",
    "    plt.ylabel('Reward')\n",
    "    plt.show()"
   ]
  },
  {
   "cell_type": "code",
   "execution_count": 26,
   "id": "e68b4e46-a659-4426-8d11-5d8d94c4b6ad",
   "metadata": {
    "execution": {
     "iopub.execute_input": "2022-03-18T08:27:17.817958Z",
     "iopub.status.busy": "2022-03-18T08:27:17.817744Z",
     "iopub.status.idle": "2022-03-18T08:27:20.293504Z",
     "shell.execute_reply": "2022-03-18T08:27:20.292406Z",
     "shell.execute_reply.started": "2022-03-18T08:27:17.817931Z"
    },
    "tags": []
   },
   "outputs": [
    {
     "name": "stderr",
     "output_type": "stream",
     "text": [
      "WARNING:obp.ope.meta:`estimated_rewards_by_reg_model` is not given; model dependent estimators such as DM or DR cannot be used.\n",
      "WARNING:obp.ope.meta:`estimated_rewards_by_reg_model` is not given; model dependent estimators such as DM or DR cannot be used.\n",
      "WARNING:obp.ope.meta:`estimated_rewards_by_reg_model` is not given; model dependent estimators such as DM or DR cannot be used.\n"
     ]
    },
    {
     "data": {
      "image/png": "[encoded data removed]",
      "text/plain": [
       "<Figure size 576x446.4 with 1 Axes>"
      ]
     },
     "metadata": {},
     "output_type": "display_data"
    },
    {
     "data": {
      "image/png": "[encoded data removed]",
      "text/plain": [
       "<Figure size 576x864 with 1 Axes>"
      ]
     },
     "metadata": {},
     "output_type": "display_data"
    }
   ],
   "source": [
    "validate(validation_data, action_choices=action_choices_validation)"
   ]
  },
  {
   "cell_type": "code",
   "execution_count": 27,
   "id": "6ab2980c-fcec-4c04-a270-a22385d80fa1",
   "metadata": {
    "execution": {
     "iopub.execute_input": "2022-03-18T08:27:20.297166Z",
     "iopub.status.busy": "2022-03-18T08:27:20.296973Z",
     "iopub.status.idle": "2022-03-18T08:27:20.302698Z",
     "shell.execute_reply": "2022-03-18T08:27:20.301576Z",
     "shell.execute_reply.started": "2022-03-18T08:27:20.297140Z"
    }
   },
   "outputs": [],
   "source": [
    "def evaluate(test_data: BanditFeedback, action_choices: Dict[str, List]) -> None:\n",
    "    for model_name, action_choice in action_choices.items():\n",
    "        # 現状calc_ground_truth_policy_valueがSyntheticBanditDatasetのinstance methodになっているので、SyntheticBanditDatasetを適当な初期値でinstance化している。\n",
    "        ground_truth_score = SyntheticBanditDataset(2).calc_ground_truth_policy_value(expected_reward=test_data['expected_reward'], action_dist=action_choice)\n",
    "        print(f'{model_name}: {ground_truth_score}')"
   ]
  },
  {
   "cell_type": "code",
   "execution_count": 28,
   "id": "f6943411-ff39-4907-8afd-374a3226572e",
   "metadata": {
    "execution": {
     "iopub.execute_input": "2022-03-18T08:27:20.306622Z",
     "iopub.status.busy": "2022-03-18T08:27:20.306428Z",
     "iopub.status.idle": "2022-03-18T08:27:21.107990Z",
     "shell.execute_reply": "2022-03-18T08:27:21.107031Z",
     "shell.execute_reply.started": "2022-03-18T08:27:20.306597Z"
    },
    "tags": []
   },
   "outputs": [
    {
     "name": "stdout",
     "output_type": "stream",
     "text": [
      "IPW: 3202.015954699949\n",
      "RULE_BASED: 776.0243396179186\n",
      "D_RULE_BASED: 1945.733515775718\n"
     ]
    }
   ],
   "source": [
    "evaluate(test_data, action_choices=action_choices_test)"
   ]
  }
 ],
 "metadata": {
  "kernelspec": {
   "display_name": "Python 3",
   "language": "python",
   "name": "python3"
  },
  "language_info": {
   "codemirror_mode": {
    "name": "ipython",
    "version": 3
   },
   "file_extension": ".py",
   "mimetype": "text/x-python",
   "name": "python",
   "nbconvert_exporter": "python",
   "pygments_lexer": "ipython3",
   "version": "3.8.8"
  },
  "toc-autonumbering": true
 },
 "nbformat": 4,
 "nbformat_minor": 5
}
